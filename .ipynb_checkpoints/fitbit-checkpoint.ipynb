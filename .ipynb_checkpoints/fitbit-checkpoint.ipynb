{
 "cells": [
  {
   "cell_type": "code",
   "execution_count": 79,
   "id": "63376abd",
   "metadata": {},
   "outputs": [],
   "source": [
    "import numpy as np\n",
    "import pandas as pd\n",
    "import matplotlib.pyplot as plt\n",
    "import seaborn as sns\n",
    "from sklearn import linear_model\n",
    "from sklearn.preprocessing import StandardScaler\n",
    "from sklearn.model_selection import train_test_split \n",
    "from sklearn.linear_model import LinearRegression"
   ]
  },
  {
   "cell_type": "code",
   "execution_count": 35,
   "id": "5d3db7c6",
   "metadata": {},
   "outputs": [],
   "source": [
    "daily_activity = pd.read_csv(\"dataset/dailyActivity_merged.csv\")\n",
    "sleep_day = pd.read_csv(\"dataset/sleepDay_merged.csv\")"
   ]
  },
  {
   "cell_type": "code",
   "execution_count": 4,
   "id": "d62c518b",
   "metadata": {},
   "outputs": [],
   "source": [
    "# Drop the unneccessary columns\n",
    "\n",
    "daily_activity.drop(columns=[\"TotalDistance\", \"TrackerDistance\", \"LoggedActivitiesDistance\", \"VeryActiveDistance\", \"ModeratelyActiveDistance\", \n",
    "                            \"LightActiveDistance\", \"SedentaryActiveDistance\"], inplace=True)"
   ]
  },
  {
   "cell_type": "code",
   "execution_count": 5,
   "id": "c22a98b8",
   "metadata": {},
   "outputs": [
    {
     "data": {
      "text/html": [
       "<div>\n",
       "<style scoped>\n",
       "    .dataframe tbody tr th:only-of-type {\n",
       "        vertical-align: middle;\n",
       "    }\n",
       "\n",
       "    .dataframe tbody tr th {\n",
       "        vertical-align: top;\n",
       "    }\n",
       "\n",
       "    .dataframe thead th {\n",
       "        text-align: right;\n",
       "    }\n",
       "</style>\n",
       "<table border=\"1\" class=\"dataframe\">\n",
       "  <thead>\n",
       "    <tr style=\"text-align: right;\">\n",
       "      <th></th>\n",
       "      <th>Id</th>\n",
       "      <th>ActivityDate</th>\n",
       "      <th>TotalSteps</th>\n",
       "      <th>VeryActiveMinutes</th>\n",
       "      <th>FairlyActiveMinutes</th>\n",
       "      <th>LightlyActiveMinutes</th>\n",
       "      <th>SedentaryMinutes</th>\n",
       "      <th>Calories</th>\n",
       "    </tr>\n",
       "  </thead>\n",
       "  <tbody>\n",
       "    <tr>\n",
       "      <th>0</th>\n",
       "      <td>1503960366</td>\n",
       "      <td>4/12/2016</td>\n",
       "      <td>13162</td>\n",
       "      <td>25</td>\n",
       "      <td>13</td>\n",
       "      <td>328</td>\n",
       "      <td>728</td>\n",
       "      <td>1985</td>\n",
       "    </tr>\n",
       "    <tr>\n",
       "      <th>1</th>\n",
       "      <td>1503960366</td>\n",
       "      <td>4/13/2016</td>\n",
       "      <td>10735</td>\n",
       "      <td>21</td>\n",
       "      <td>19</td>\n",
       "      <td>217</td>\n",
       "      <td>776</td>\n",
       "      <td>1797</td>\n",
       "    </tr>\n",
       "    <tr>\n",
       "      <th>2</th>\n",
       "      <td>1503960366</td>\n",
       "      <td>4/14/2016</td>\n",
       "      <td>10460</td>\n",
       "      <td>30</td>\n",
       "      <td>11</td>\n",
       "      <td>181</td>\n",
       "      <td>1218</td>\n",
       "      <td>1776</td>\n",
       "    </tr>\n",
       "    <tr>\n",
       "      <th>3</th>\n",
       "      <td>1503960366</td>\n",
       "      <td>4/15/2016</td>\n",
       "      <td>9762</td>\n",
       "      <td>29</td>\n",
       "      <td>34</td>\n",
       "      <td>209</td>\n",
       "      <td>726</td>\n",
       "      <td>1745</td>\n",
       "    </tr>\n",
       "    <tr>\n",
       "      <th>4</th>\n",
       "      <td>1503960366</td>\n",
       "      <td>4/16/2016</td>\n",
       "      <td>12669</td>\n",
       "      <td>36</td>\n",
       "      <td>10</td>\n",
       "      <td>221</td>\n",
       "      <td>773</td>\n",
       "      <td>1863</td>\n",
       "    </tr>\n",
       "    <tr>\n",
       "      <th>...</th>\n",
       "      <td>...</td>\n",
       "      <td>...</td>\n",
       "      <td>...</td>\n",
       "      <td>...</td>\n",
       "      <td>...</td>\n",
       "      <td>...</td>\n",
       "      <td>...</td>\n",
       "      <td>...</td>\n",
       "    </tr>\n",
       "    <tr>\n",
       "      <th>935</th>\n",
       "      <td>8877689391</td>\n",
       "      <td>5/8/2016</td>\n",
       "      <td>10686</td>\n",
       "      <td>17</td>\n",
       "      <td>4</td>\n",
       "      <td>245</td>\n",
       "      <td>1174</td>\n",
       "      <td>2847</td>\n",
       "    </tr>\n",
       "    <tr>\n",
       "      <th>936</th>\n",
       "      <td>8877689391</td>\n",
       "      <td>5/9/2016</td>\n",
       "      <td>20226</td>\n",
       "      <td>73</td>\n",
       "      <td>19</td>\n",
       "      <td>217</td>\n",
       "      <td>1131</td>\n",
       "      <td>3710</td>\n",
       "    </tr>\n",
       "    <tr>\n",
       "      <th>937</th>\n",
       "      <td>8877689391</td>\n",
       "      <td>5/10/2016</td>\n",
       "      <td>10733</td>\n",
       "      <td>18</td>\n",
       "      <td>11</td>\n",
       "      <td>224</td>\n",
       "      <td>1187</td>\n",
       "      <td>2832</td>\n",
       "    </tr>\n",
       "    <tr>\n",
       "      <th>938</th>\n",
       "      <td>8877689391</td>\n",
       "      <td>5/11/2016</td>\n",
       "      <td>21420</td>\n",
       "      <td>88</td>\n",
       "      <td>12</td>\n",
       "      <td>213</td>\n",
       "      <td>1127</td>\n",
       "      <td>3832</td>\n",
       "    </tr>\n",
       "    <tr>\n",
       "      <th>939</th>\n",
       "      <td>8877689391</td>\n",
       "      <td>5/12/2016</td>\n",
       "      <td>8064</td>\n",
       "      <td>23</td>\n",
       "      <td>1</td>\n",
       "      <td>137</td>\n",
       "      <td>770</td>\n",
       "      <td>1849</td>\n",
       "    </tr>\n",
       "  </tbody>\n",
       "</table>\n",
       "<p>940 rows × 8 columns</p>\n",
       "</div>"
      ],
      "text/plain": [
       "             Id ActivityDate  TotalSteps  VeryActiveMinutes  \\\n",
       "0    1503960366    4/12/2016       13162                 25   \n",
       "1    1503960366    4/13/2016       10735                 21   \n",
       "2    1503960366    4/14/2016       10460                 30   \n",
       "3    1503960366    4/15/2016        9762                 29   \n",
       "4    1503960366    4/16/2016       12669                 36   \n",
       "..          ...          ...         ...                ...   \n",
       "935  8877689391     5/8/2016       10686                 17   \n",
       "936  8877689391     5/9/2016       20226                 73   \n",
       "937  8877689391    5/10/2016       10733                 18   \n",
       "938  8877689391    5/11/2016       21420                 88   \n",
       "939  8877689391    5/12/2016        8064                 23   \n",
       "\n",
       "     FairlyActiveMinutes  LightlyActiveMinutes  SedentaryMinutes  Calories  \n",
       "0                     13                   328               728      1985  \n",
       "1                     19                   217               776      1797  \n",
       "2                     11                   181              1218      1776  \n",
       "3                     34                   209               726      1745  \n",
       "4                     10                   221               773      1863  \n",
       "..                   ...                   ...               ...       ...  \n",
       "935                    4                   245              1174      2847  \n",
       "936                   19                   217              1131      3710  \n",
       "937                   11                   224              1187      2832  \n",
       "938                   12                   213              1127      3832  \n",
       "939                    1                   137               770      1849  \n",
       "\n",
       "[940 rows x 8 columns]"
      ]
     },
     "execution_count": 5,
     "metadata": {},
     "output_type": "execute_result"
    }
   ],
   "source": [
    "daily_activity"
   ]
  },
  {
   "cell_type": "code",
   "execution_count": 6,
   "id": "e3adf9c0",
   "metadata": {},
   "outputs": [
    {
     "data": {
      "text/html": [
       "<div>\n",
       "<style scoped>\n",
       "    .dataframe tbody tr th:only-of-type {\n",
       "        vertical-align: middle;\n",
       "    }\n",
       "\n",
       "    .dataframe tbody tr th {\n",
       "        vertical-align: top;\n",
       "    }\n",
       "\n",
       "    .dataframe thead th {\n",
       "        text-align: right;\n",
       "    }\n",
       "</style>\n",
       "<table border=\"1\" class=\"dataframe\">\n",
       "  <thead>\n",
       "    <tr style=\"text-align: right;\">\n",
       "      <th></th>\n",
       "      <th>Id</th>\n",
       "      <th>SleepDay</th>\n",
       "      <th>TotalSleepRecords</th>\n",
       "      <th>TotalMinutesAsleep</th>\n",
       "      <th>TotalTimeInBed</th>\n",
       "    </tr>\n",
       "  </thead>\n",
       "  <tbody>\n",
       "    <tr>\n",
       "      <th>0</th>\n",
       "      <td>1503960366</td>\n",
       "      <td>4/12/2016 12:00:00 AM</td>\n",
       "      <td>1</td>\n",
       "      <td>327</td>\n",
       "      <td>346</td>\n",
       "    </tr>\n",
       "    <tr>\n",
       "      <th>1</th>\n",
       "      <td>1503960366</td>\n",
       "      <td>4/13/2016 12:00:00 AM</td>\n",
       "      <td>2</td>\n",
       "      <td>384</td>\n",
       "      <td>407</td>\n",
       "    </tr>\n",
       "    <tr>\n",
       "      <th>2</th>\n",
       "      <td>1503960366</td>\n",
       "      <td>4/15/2016 12:00:00 AM</td>\n",
       "      <td>1</td>\n",
       "      <td>412</td>\n",
       "      <td>442</td>\n",
       "    </tr>\n",
       "    <tr>\n",
       "      <th>3</th>\n",
       "      <td>1503960366</td>\n",
       "      <td>4/16/2016 12:00:00 AM</td>\n",
       "      <td>2</td>\n",
       "      <td>340</td>\n",
       "      <td>367</td>\n",
       "    </tr>\n",
       "    <tr>\n",
       "      <th>4</th>\n",
       "      <td>1503960366</td>\n",
       "      <td>4/17/2016 12:00:00 AM</td>\n",
       "      <td>1</td>\n",
       "      <td>700</td>\n",
       "      <td>712</td>\n",
       "    </tr>\n",
       "    <tr>\n",
       "      <th>5</th>\n",
       "      <td>1503960366</td>\n",
       "      <td>4/19/2016 12:00:00 AM</td>\n",
       "      <td>1</td>\n",
       "      <td>304</td>\n",
       "      <td>320</td>\n",
       "    </tr>\n",
       "    <tr>\n",
       "      <th>6</th>\n",
       "      <td>1503960366</td>\n",
       "      <td>4/20/2016 12:00:00 AM</td>\n",
       "      <td>1</td>\n",
       "      <td>360</td>\n",
       "      <td>377</td>\n",
       "    </tr>\n",
       "    <tr>\n",
       "      <th>7</th>\n",
       "      <td>1503960366</td>\n",
       "      <td>4/21/2016 12:00:00 AM</td>\n",
       "      <td>1</td>\n",
       "      <td>325</td>\n",
       "      <td>364</td>\n",
       "    </tr>\n",
       "    <tr>\n",
       "      <th>8</th>\n",
       "      <td>1503960366</td>\n",
       "      <td>4/23/2016 12:00:00 AM</td>\n",
       "      <td>1</td>\n",
       "      <td>361</td>\n",
       "      <td>384</td>\n",
       "    </tr>\n",
       "    <tr>\n",
       "      <th>9</th>\n",
       "      <td>1503960366</td>\n",
       "      <td>4/24/2016 12:00:00 AM</td>\n",
       "      <td>1</td>\n",
       "      <td>430</td>\n",
       "      <td>449</td>\n",
       "    </tr>\n",
       "  </tbody>\n",
       "</table>\n",
       "</div>"
      ],
      "text/plain": [
       "           Id               SleepDay  TotalSleepRecords  TotalMinutesAsleep  \\\n",
       "0  1503960366  4/12/2016 12:00:00 AM                  1                 327   \n",
       "1  1503960366  4/13/2016 12:00:00 AM                  2                 384   \n",
       "2  1503960366  4/15/2016 12:00:00 AM                  1                 412   \n",
       "3  1503960366  4/16/2016 12:00:00 AM                  2                 340   \n",
       "4  1503960366  4/17/2016 12:00:00 AM                  1                 700   \n",
       "5  1503960366  4/19/2016 12:00:00 AM                  1                 304   \n",
       "6  1503960366  4/20/2016 12:00:00 AM                  1                 360   \n",
       "7  1503960366  4/21/2016 12:00:00 AM                  1                 325   \n",
       "8  1503960366  4/23/2016 12:00:00 AM                  1                 361   \n",
       "9  1503960366  4/24/2016 12:00:00 AM                  1                 430   \n",
       "\n",
       "   TotalTimeInBed  \n",
       "0             346  \n",
       "1             407  \n",
       "2             442  \n",
       "3             367  \n",
       "4             712  \n",
       "5             320  \n",
       "6             377  \n",
       "7             364  \n",
       "8             384  \n",
       "9             449  "
      ]
     },
     "execution_count": 6,
     "metadata": {},
     "output_type": "execute_result"
    }
   ],
   "source": [
    "sleep_day.head(10)"
   ]
  },
  {
   "cell_type": "code",
   "execution_count": 7,
   "id": "5e464611",
   "metadata": {},
   "outputs": [
    {
     "data": {
      "text/plain": [
       "Id                      0\n",
       "ActivityDate            0\n",
       "TotalSteps              0\n",
       "VeryActiveMinutes       0\n",
       "FairlyActiveMinutes     0\n",
       "LightlyActiveMinutes    0\n",
       "SedentaryMinutes        0\n",
       "Calories                0\n",
       "dtype: int64"
      ]
     },
     "execution_count": 7,
     "metadata": {},
     "output_type": "execute_result"
    }
   ],
   "source": [
    "daily_activity.isna().sum()"
   ]
  },
  {
   "cell_type": "code",
   "execution_count": 8,
   "id": "9f183963",
   "metadata": {},
   "outputs": [
    {
     "data": {
      "text/plain": [
       "Id                    0\n",
       "SleepDay              0\n",
       "TotalSleepRecords     0\n",
       "TotalMinutesAsleep    0\n",
       "TotalTimeInBed        0\n",
       "dtype: int64"
      ]
     },
     "execution_count": 8,
     "metadata": {},
     "output_type": "execute_result"
    }
   ],
   "source": [
    "sleep_day.isna().sum()"
   ]
  },
  {
   "cell_type": "code",
   "execution_count": 9,
   "id": "8b79c8c5",
   "metadata": {},
   "outputs": [
    {
     "name": "stdout",
     "output_type": "stream",
     "text": [
      "(940, 8)\n",
      "(413, 5)\n"
     ]
    }
   ],
   "source": [
    "print(daily_activity.shape)\n",
    "print(sleep_day.shape)"
   ]
  },
  {
   "cell_type": "code",
   "execution_count": 10,
   "id": "2110817a",
   "metadata": {
    "scrolled": true
   },
   "outputs": [
    {
     "name": "stdout",
     "output_type": "stream",
     "text": [
      "ID's of common users are:\n",
      " [1503960366, 1644430081, 1844505072, 1927972279, 2026352035, 2320127002, 2347167796, 3977333714, 4020332650, 4319703577, 4388161847, 4445114986, 4558609924, 4702921684, 5553957443, 5577150313, 6117666160, 6775888955, 6962181067, 7007744171, 7086361926, 8053475328, 8378563200, 8792009665]\n",
      "Number of common users is 24\n"
     ]
    }
   ],
   "source": [
    "daily_activity_ids = pd.unique(daily_activity[\"Id\"])\n",
    "sleep_day_ids = pd.unique(sleep_day[\"Id\"])\n",
    "\n",
    "# Find the users that we have both their activity and sleep data\n",
    "common = [id for id in daily_activity_ids if id in sleep_day_ids]\n",
    "\n",
    "print(\"ID's of common users are:\\n\", common)\n",
    "print(\"Number of common users is\", len(common))\n"
   ]
  },
  {
   "cell_type": "markdown",
   "id": "6950c10f",
   "metadata": {},
   "source": [
    "# \"\"\"\n",
    "Bu ortak kullanıcıların aynı günkü toplam aktivite ve toplam uyku sürelerini buluruz böylece mesela 21/4 gününde şu kadar\n",
    "uyumuş bu kadar aktivite yapmış deriz. Sonrasında günleri de toplayarak o kullanıcı toplam bu kadar uyumuş şu kadar aktif\n",
    "olmuş şeklinde bir veri çıkarılabilir.\n",
    "\"\"\"\n",
    "\n"
   ]
  },
  {
   "cell_type": "code",
   "execution_count": 12,
   "id": "0dab3b93",
   "metadata": {},
   "outputs": [
    {
     "data": {
      "text/html": [
       "<div>\n",
       "<style scoped>\n",
       "    .dataframe tbody tr th:only-of-type {\n",
       "        vertical-align: middle;\n",
       "    }\n",
       "\n",
       "    .dataframe tbody tr th {\n",
       "        vertical-align: top;\n",
       "    }\n",
       "\n",
       "    .dataframe thead th {\n",
       "        text-align: right;\n",
       "    }\n",
       "</style>\n",
       "<table border=\"1\" class=\"dataframe\">\n",
       "  <thead>\n",
       "    <tr style=\"text-align: right;\">\n",
       "      <th></th>\n",
       "      <th>Id</th>\n",
       "      <th>ActivityDate</th>\n",
       "      <th>TotalSteps</th>\n",
       "      <th>VeryActiveMinutes</th>\n",
       "      <th>FairlyActiveMinutes</th>\n",
       "      <th>LightlyActiveMinutes</th>\n",
       "      <th>SedentaryMinutes</th>\n",
       "      <th>Calories</th>\n",
       "      <th>total_active_minutes</th>\n",
       "    </tr>\n",
       "  </thead>\n",
       "  <tbody>\n",
       "    <tr>\n",
       "      <th>0</th>\n",
       "      <td>1503960366</td>\n",
       "      <td>4/12/2016</td>\n",
       "      <td>13162</td>\n",
       "      <td>25</td>\n",
       "      <td>13</td>\n",
       "      <td>328</td>\n",
       "      <td>728</td>\n",
       "      <td>1985</td>\n",
       "      <td>366</td>\n",
       "    </tr>\n",
       "    <tr>\n",
       "      <th>1</th>\n",
       "      <td>1503960366</td>\n",
       "      <td>4/13/2016</td>\n",
       "      <td>10735</td>\n",
       "      <td>21</td>\n",
       "      <td>19</td>\n",
       "      <td>217</td>\n",
       "      <td>776</td>\n",
       "      <td>1797</td>\n",
       "      <td>257</td>\n",
       "    </tr>\n",
       "    <tr>\n",
       "      <th>2</th>\n",
       "      <td>1503960366</td>\n",
       "      <td>4/14/2016</td>\n",
       "      <td>10460</td>\n",
       "      <td>30</td>\n",
       "      <td>11</td>\n",
       "      <td>181</td>\n",
       "      <td>1218</td>\n",
       "      <td>1776</td>\n",
       "      <td>222</td>\n",
       "    </tr>\n",
       "    <tr>\n",
       "      <th>3</th>\n",
       "      <td>1503960366</td>\n",
       "      <td>4/15/2016</td>\n",
       "      <td>9762</td>\n",
       "      <td>29</td>\n",
       "      <td>34</td>\n",
       "      <td>209</td>\n",
       "      <td>726</td>\n",
       "      <td>1745</td>\n",
       "      <td>272</td>\n",
       "    </tr>\n",
       "    <tr>\n",
       "      <th>4</th>\n",
       "      <td>1503960366</td>\n",
       "      <td>4/16/2016</td>\n",
       "      <td>12669</td>\n",
       "      <td>36</td>\n",
       "      <td>10</td>\n",
       "      <td>221</td>\n",
       "      <td>773</td>\n",
       "      <td>1863</td>\n",
       "      <td>267</td>\n",
       "    </tr>\n",
       "  </tbody>\n",
       "</table>\n",
       "</div>"
      ],
      "text/plain": [
       "           Id ActivityDate  TotalSteps  VeryActiveMinutes  \\\n",
       "0  1503960366    4/12/2016       13162                 25   \n",
       "1  1503960366    4/13/2016       10735                 21   \n",
       "2  1503960366    4/14/2016       10460                 30   \n",
       "3  1503960366    4/15/2016        9762                 29   \n",
       "4  1503960366    4/16/2016       12669                 36   \n",
       "\n",
       "   FairlyActiveMinutes  LightlyActiveMinutes  SedentaryMinutes  Calories  \\\n",
       "0                   13                   328               728      1985   \n",
       "1                   19                   217               776      1797   \n",
       "2                   11                   181              1218      1776   \n",
       "3                   34                   209               726      1745   \n",
       "4                   10                   221               773      1863   \n",
       "\n",
       "   total_active_minutes  \n",
       "0                   366  \n",
       "1                   257  \n",
       "2                   222  \n",
       "3                   272  \n",
       "4                   267  "
      ]
     },
     "execution_count": 12,
     "metadata": {},
     "output_type": "execute_result"
    }
   ],
   "source": [
    "# First, gather the activity minutes into \"total_activity_minutes\" column\n",
    "\n",
    "daily_activity[\"total_active_minutes\"] = daily_activity[\"VeryActiveMinutes\"] + daily_activity[\"FairlyActiveMinutes\"] + \\\n",
    "daily_activity[\"LightlyActiveMinutes\"]\n",
    "\n",
    "daily_activity.head()"
   ]
  },
  {
   "cell_type": "code",
   "execution_count": 13,
   "id": "098ba611",
   "metadata": {},
   "outputs": [],
   "source": [
    "daily_activity.rename(columns={\"ActivityDate\":\"Date\"}, inplace=True)\n",
    "sleep_day.rename(columns={\"SleepDay\":\"Date\"}, inplace=True)"
   ]
  },
  {
   "cell_type": "code",
   "execution_count": 14,
   "id": "8af27faa",
   "metadata": {},
   "outputs": [],
   "source": [
    "# Drop the 12.00.00 AM's\n",
    "\n",
    "dates = sleep_day[\"Date\"].values\n",
    "for i in range(len(dates)):\n",
    "    splitted = dates[i].split(\" \")\n",
    "    dates[i] = splitted[0]\n",
    "sleep_day[\"Date\"] = dates"
   ]
  },
  {
   "cell_type": "code",
   "execution_count": 15,
   "id": "3bb77f21",
   "metadata": {},
   "outputs": [
    {
     "name": "stdout",
     "output_type": "stream",
     "text": [
      "0     2016-04-12\n",
      "1     2016-04-13\n",
      "2     2016-04-15\n",
      "3     2016-04-16\n",
      "4     2016-04-17\n",
      "         ...    \n",
      "408   2016-04-30\n",
      "409   2016-05-01\n",
      "410   2016-05-02\n",
      "411   2016-05-03\n",
      "412   2016-05-04\n",
      "Name: Date, Length: 413, dtype: datetime64[ns]\n",
      "0     2016-04-12\n",
      "1     2016-04-13\n",
      "2     2016-04-14\n",
      "3     2016-04-15\n",
      "4     2016-04-16\n",
      "         ...    \n",
      "935   2016-05-08\n",
      "936   2016-05-09\n",
      "937   2016-05-10\n",
      "938   2016-05-11\n",
      "939   2016-05-12\n",
      "Name: Date, Length: 940, dtype: datetime64[ns]\n"
     ]
    }
   ],
   "source": [
    "# Change the Date formats\n",
    "\n",
    "sleep_day[\"Date\"] = pd.to_datetime(sleep_day[\"Date\"], format=\"%m/%d/%Y\")\n",
    "print(sleep_day[\"Date\"])\n",
    "\n",
    "daily_activity[\"Date\"] = pd.to_datetime(daily_activity[\"Date\"], format=\"%m/%d/%Y\")\n",
    "print(daily_activity[\"Date\"])"
   ]
  },
  {
   "cell_type": "code",
   "execution_count": 18,
   "id": "42a28306",
   "metadata": {},
   "outputs": [
    {
     "name": "stdout",
     "output_type": "stream",
     "text": [
      "(413, 8)\n"
     ]
    },
    {
     "data": {
      "text/html": [
       "<div>\n",
       "<style scoped>\n",
       "    .dataframe tbody tr th:only-of-type {\n",
       "        vertical-align: middle;\n",
       "    }\n",
       "\n",
       "    .dataframe tbody tr th {\n",
       "        vertical-align: top;\n",
       "    }\n",
       "\n",
       "    .dataframe thead th {\n",
       "        text-align: right;\n",
       "    }\n",
       "</style>\n",
       "<table border=\"1\" class=\"dataframe\">\n",
       "  <thead>\n",
       "    <tr style=\"text-align: right;\">\n",
       "      <th></th>\n",
       "      <th>Id</th>\n",
       "      <th>Date</th>\n",
       "      <th>TotalSteps</th>\n",
       "      <th>SedentaryMinutes</th>\n",
       "      <th>Calories</th>\n",
       "      <th>total_active_minutes</th>\n",
       "      <th>TotalMinutesAsleep</th>\n",
       "      <th>TotalTimeInBed</th>\n",
       "    </tr>\n",
       "  </thead>\n",
       "  <tbody>\n",
       "    <tr>\n",
       "      <th>0</th>\n",
       "      <td>1503960366</td>\n",
       "      <td>2016-04-12</td>\n",
       "      <td>13162</td>\n",
       "      <td>728</td>\n",
       "      <td>1985</td>\n",
       "      <td>366</td>\n",
       "      <td>327</td>\n",
       "      <td>346</td>\n",
       "    </tr>\n",
       "    <tr>\n",
       "      <th>1</th>\n",
       "      <td>1503960366</td>\n",
       "      <td>2016-04-13</td>\n",
       "      <td>10735</td>\n",
       "      <td>776</td>\n",
       "      <td>1797</td>\n",
       "      <td>257</td>\n",
       "      <td>384</td>\n",
       "      <td>407</td>\n",
       "    </tr>\n",
       "    <tr>\n",
       "      <th>2</th>\n",
       "      <td>1503960366</td>\n",
       "      <td>2016-04-15</td>\n",
       "      <td>9762</td>\n",
       "      <td>726</td>\n",
       "      <td>1745</td>\n",
       "      <td>272</td>\n",
       "      <td>412</td>\n",
       "      <td>442</td>\n",
       "    </tr>\n",
       "    <tr>\n",
       "      <th>3</th>\n",
       "      <td>1503960366</td>\n",
       "      <td>2016-04-16</td>\n",
       "      <td>12669</td>\n",
       "      <td>773</td>\n",
       "      <td>1863</td>\n",
       "      <td>267</td>\n",
       "      <td>340</td>\n",
       "      <td>367</td>\n",
       "    </tr>\n",
       "    <tr>\n",
       "      <th>4</th>\n",
       "      <td>1503960366</td>\n",
       "      <td>2016-04-17</td>\n",
       "      <td>9705</td>\n",
       "      <td>539</td>\n",
       "      <td>1728</td>\n",
       "      <td>222</td>\n",
       "      <td>700</td>\n",
       "      <td>712</td>\n",
       "    </tr>\n",
       "    <tr>\n",
       "      <th>5</th>\n",
       "      <td>1503960366</td>\n",
       "      <td>2016-04-19</td>\n",
       "      <td>15506</td>\n",
       "      <td>775</td>\n",
       "      <td>2035</td>\n",
       "      <td>345</td>\n",
       "      <td>304</td>\n",
       "      <td>320</td>\n",
       "    </tr>\n",
       "    <tr>\n",
       "      <th>6</th>\n",
       "      <td>1503960366</td>\n",
       "      <td>2016-04-20</td>\n",
       "      <td>10544</td>\n",
       "      <td>818</td>\n",
       "      <td>1786</td>\n",
       "      <td>245</td>\n",
       "      <td>360</td>\n",
       "      <td>377</td>\n",
       "    </tr>\n",
       "    <tr>\n",
       "      <th>7</th>\n",
       "      <td>1503960366</td>\n",
       "      <td>2016-04-21</td>\n",
       "      <td>9819</td>\n",
       "      <td>838</td>\n",
       "      <td>1775</td>\n",
       "      <td>238</td>\n",
       "      <td>325</td>\n",
       "      <td>364</td>\n",
       "    </tr>\n",
       "    <tr>\n",
       "      <th>8</th>\n",
       "      <td>1503960366</td>\n",
       "      <td>2016-04-23</td>\n",
       "      <td>14371</td>\n",
       "      <td>732</td>\n",
       "      <td>1949</td>\n",
       "      <td>324</td>\n",
       "      <td>361</td>\n",
       "      <td>384</td>\n",
       "    </tr>\n",
       "    <tr>\n",
       "      <th>9</th>\n",
       "      <td>1503960366</td>\n",
       "      <td>2016-04-24</td>\n",
       "      <td>10039</td>\n",
       "      <td>709</td>\n",
       "      <td>1788</td>\n",
       "      <td>282</td>\n",
       "      <td>430</td>\n",
       "      <td>449</td>\n",
       "    </tr>\n",
       "  </tbody>\n",
       "</table>\n",
       "</div>"
      ],
      "text/plain": [
       "           Id       Date  TotalSteps  SedentaryMinutes  Calories  \\\n",
       "0  1503960366 2016-04-12       13162               728      1985   \n",
       "1  1503960366 2016-04-13       10735               776      1797   \n",
       "2  1503960366 2016-04-15        9762               726      1745   \n",
       "3  1503960366 2016-04-16       12669               773      1863   \n",
       "4  1503960366 2016-04-17        9705               539      1728   \n",
       "5  1503960366 2016-04-19       15506               775      2035   \n",
       "6  1503960366 2016-04-20       10544               818      1786   \n",
       "7  1503960366 2016-04-21        9819               838      1775   \n",
       "8  1503960366 2016-04-23       14371               732      1949   \n",
       "9  1503960366 2016-04-24       10039               709      1788   \n",
       "\n",
       "   total_active_minutes  TotalMinutesAsleep  TotalTimeInBed  \n",
       "0                   366                 327             346  \n",
       "1                   257                 384             407  \n",
       "2                   272                 412             442  \n",
       "3                   267                 340             367  \n",
       "4                   222                 700             712  \n",
       "5                   345                 304             320  \n",
       "6                   245                 360             377  \n",
       "7                   238                 325             364  \n",
       "8                   324                 361             384  \n",
       "9                   282                 430             449  "
      ]
     },
     "execution_count": 18,
     "metadata": {},
     "output_type": "execute_result"
    }
   ],
   "source": [
    "# Now join the tables into the new table to gather same ids and dates to further processing\n",
    "\n",
    "df_activity_with_sleep = pd.merge(daily_activity, sleep_day, on=[\"Id\", \"Date\"])\n",
    "\n",
    "df_activity_with_sleep.drop(columns=[\"VeryActiveMinutes\", \"FairlyActiveMinutes\", \"LightlyActiveMinutes\", \"TotalSleepRecords\"], inplace=True)\n",
    "\n",
    "print(df_activity_with_sleep.shape)\n",
    "df_activity_with_sleep.head(10)"
   ]
  },
  {
   "cell_type": "code",
   "execution_count": 66,
   "id": "8ff228f4",
   "metadata": {},
   "outputs": [
    {
     "data": {
      "image/png": "[encoded data removed]",
      "text/plain": [
       "<Figure size 432x288 with 2 Axes>"
      ]
     },
     "metadata": {
      "needs_background": "light"
     },
     "output_type": "display_data"
    }
   ],
   "source": [
    "# Correlation heatmap of data\n",
    "\n",
    "corr = df_activity_with_sleep.corr()\n",
    "ax = sns.heatmap(\n",
    "    corr, \n",
    "    vmin=-1, vmax=1, center=0,\n",
    "    cmap=sns.diverging_palette(20, 220, n=200),\n",
    "    square=True\n",
    ")\n",
    "ax.set_xticklabels(\n",
    "    ax.get_xticklabels(),\n",
    "    rotation=45,\n",
    "    horizontalalignment='right'\n",
    ");"
   ]
  },
  {
   "cell_type": "markdown",
   "id": "0a45c8fd",
   "metadata": {},
   "source": [
    "Looks like Sedentary Minutes and Total Asleep Minutes have a reverse correlation so we can build a linear regressor on them."
   ]
  },
  {
   "cell_type": "code",
   "execution_count": 85,
   "id": "de78af17",
   "metadata": {},
   "outputs": [
    {
     "data": {
      "text/plain": [
       "Text(0.5, 0, 'Total Active Minutes')"
      ]
     },
     "execution_count": 85,
     "metadata": {},
     "output_type": "execute_result"
    },
    {
     "data": {
      "image/png": "[encoded data removed]",
      "text/plain": [
       "<Figure size 432x288 with 1 Axes>"
      ]
     },
     "metadata": {
      "needs_background": "light"
     },
     "output_type": "display_data"
    }
   ],
   "source": [
    "# Histogram plot of total active minutes\n",
    "\n",
    "plt.hist(df_activity_with_sleep[\"SedentaryMinutes\"])\n",
    "plt.xlabel(\"Total Active Minutes\")"
   ]
  },
  {
   "cell_type": "code",
   "execution_count": 33,
   "id": "26cfdbe0",
   "metadata": {},
   "outputs": [
    {
     "data": {
      "text/plain": [
       "Text(0.5, 0, 'Total Asleep Minutes')"
      ]
     },
     "execution_count": 33,
     "metadata": {},
     "output_type": "execute_result"
    },
    {
     "data": {
      "image/png": "[encoded data removed]",
      "text/plain": [
       "<Figure size 432x288 with 1 Axes>"
      ]
     },
     "metadata": {
      "needs_background": "light"
     },
     "output_type": "display_data"
    }
   ],
   "source": [
    "# Histogram plot of total asleep minutes\n",
    "\n",
    "plt.hist(df_activity_with_sleep[\"TotalMinutesAsleep\"])\n",
    "plt.xlabel(\"Total Asleep Minutes\")"
   ]
  },
  {
   "cell_type": "markdown",
   "id": "f243d3fb",
   "metadata": {},
   "source": [
    "Looks like histograms are matching."
   ]
  },
  {
   "cell_type": "code",
   "execution_count": 102,
   "id": "c9f6816c",
   "metadata": {},
   "outputs": [
    {
     "data": {
      "text/plain": [
       "[<matplotlib.lines.Line2D at 0x18e5e5c49a0>]"
      ]
     },
     "execution_count": 102,
     "metadata": {},
     "output_type": "execute_result"
    },
    {
     "data": {
      "image/png": "[encoded data removed]",
      "text/plain": [
       "<Figure size 432x288 with 1 Axes>"
      ]
     },
     "metadata": {
      "needs_background": "light"
     },
     "output_type": "display_data"
    }
   ],
   "source": [
    "# Scatter plot and regression line of sedentary active mins vs. total mins asleep\n",
    "\n",
    "X = df_activity_with_sleep[\"SedentaryMinutes\"].values\n",
    "y = df_activity_with_sleep[\"TotalMinutesAsleep\"].values\n",
    "\n",
    "X_train, X_test, y_train, y_test = train_test_split(X, y, test_size=0.2, random_state=0) \n",
    "\n",
    "regressor = LinearRegression()\n",
    "\n",
    "X_train = X_train.reshape(-1, 1)\n",
    "X_test = X_test.reshape(-1, 1)\n",
    "\n",
    "regressor.fit(X_train, y_train)\n",
    "y_pred = regressor.predict(X_test)\n",
    "\n",
    "plt.scatter(X, y,color='g')\n",
    "plt.xlabel(\"Sedentary Activity Minutes\")\n",
    "plt.ylabel(\"Total Asleep Minutes\")\n",
    "plt.grid(True)\n",
    "plt.plot(X_test, y_pred,color='k') "
   ]
  },
  {
   "cell_type": "code",
   "execution_count": 27,
   "id": "1572ccec",
   "metadata": {
    "scrolled": false
   },
   "outputs": [
    {
     "data": {
      "image/png": "[encoded data removed]",
      "text/plain": [
       "<Figure size 432x288 with 1 Axes>"
      ]
     },
     "metadata": {
      "needs_background": "light"
     },
     "output_type": "display_data"
    }
   ],
   "source": [
    "# Scatter plot of total active mins vs. total mins asleep\n",
    "\n",
    "x_axis = df_activity_with_sleep[\"total_active_minutes\"].values\n",
    "y_axis = df_activity_with_sleep[\"TotalMinutesAsleep\"].values\n",
    "\n",
    "plt.scatter(x_axis, y_axis, c=\"red\", alpha=0.6)\n",
    "plt.xlabel(\"Total Active Minutes\")\n",
    "plt.ylabel(\"Minutes Asleep\")\n",
    "plt.grid(True)"
   ]
  },
  {
   "cell_type": "code",
   "execution_count": null,
   "id": "5e01b5ee",
   "metadata": {},
   "outputs": [],
   "source": [
    "# Perform the necessary imports\n",
    "from sklearn.pipeline import make_pipeline\n",
    "from sklearn.preprocessing import StandardScaler\n",
    "from sklearn.cluster import KMeans\n",
    "\n",
    "# Scaler\n",
    "scaler = StandardScaler()\n",
    "\n",
    "# K Means\n",
    "kmeans = KMeans(n_clusters=5)\n",
    "\n",
    "# Create pipeline: pipeline\n",
    "pipeline = make_pipeline(scaler, kmeans)"
   ]
  }
 ],
 "metadata": {
  "kernelspec": {
   "display_name": "Python 3 (ipykernel)",
   "language": "python",
   "name": "python3"
  },
  "language_info": {
   "codemirror_mode": {
    "name": "ipython",
    "version": 3
   },
   "file_extension": ".py",
   "mimetype": "text/x-python",
   "name": "python",
   "nbconvert_exporter": "python",
   "pygments_lexer": "ipython3",
   "version": "3.10.5"
  }
 },
 "nbformat": 4,
 "nbformat_minor": 5
}
